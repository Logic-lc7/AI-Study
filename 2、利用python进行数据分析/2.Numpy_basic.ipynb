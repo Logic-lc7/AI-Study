{
 "cells": [
  {
   "cell_type": "markdown",
   "id": "f179454c-0721-4c1f-9b13-65b3367426ee",
   "metadata": {
    "jp-MarkdownHeadingCollapsed": true
   },
   "source": [
    "### 1、ndarray的属性"
   ]
  },
  {
   "cell_type": "markdown",
   "id": "87cba9ff-4b14-4887-ade3-8eea58d5fc8f",
   "metadata": {
    "jp-MarkdownHeadingCollapsed": true
   },
   "source": [
    "#### ①示例"
   ]
  },
  {
   "cell_type": "code",
   "execution_count": 2,
   "id": "aaca9b2a-104e-4a26-84ab-eeaa2635afd1",
   "metadata": {},
   "outputs": [],
   "source": [
    "import numpy as np"
   ]
  },
  {
   "cell_type": "code",
   "execution_count": 2,
   "id": "bd483de5-b8e4-4793-88a8-6bae722ff434",
   "metadata": {},
   "outputs": [],
   "source": [
    "score = np.array([[80, 89, 86, 67, 79],\n",
    "[78, 97, 89, 67, 81],\n",
    "[90, 94, 78, 67, 74],\n",
    "[91, 91, 90, 67, 69],\n",
    "[76, 87, 75, 67, 86],\n",
    "[70, 79, 84, 67, 84],\n",
    "[94, 92, 93, 67, 64],\n",
    "[86, 85, 83, 67, 80]])"
   ]
  },
  {
   "cell_type": "markdown",
   "id": "fef3d261-8d9e-4ae5-b060-1a3e222cd975",
   "metadata": {},
   "source": [
    "score"
   ]
  },
  {
   "cell_type": "code",
   "execution_count": 4,
   "id": "f0e4797f-dd0d-465f-8c7e-cf0cf303eed0",
   "metadata": {},
   "outputs": [
    {
     "data": {
      "text/plain": [
       "(8, 5)"
      ]
     },
     "execution_count": 4,
     "metadata": {},
     "output_type": "execute_result"
    }
   ],
   "source": [
    "score.shape  # (8, 5)"
   ]
  },
  {
   "cell_type": "code",
   "execution_count": 5,
   "id": "bc1446f5-0d40-4706-ad4a-df8c525e77d8",
   "metadata": {},
   "outputs": [
    {
     "data": {
      "text/plain": [
       "2"
      ]
     },
     "execution_count": 5,
     "metadata": {},
     "output_type": "execute_result"
    }
   ],
   "source": [
    "score.ndim  # 维度"
   ]
  },
  {
   "cell_type": "code",
   "execution_count": 6,
   "id": "8ecc7b0a-b962-4529-a0c3-c3fb1f24d104",
   "metadata": {},
   "outputs": [
    {
     "data": {
      "text/plain": [
       "40"
      ]
     },
     "execution_count": 6,
     "metadata": {},
     "output_type": "execute_result"
    }
   ],
   "source": [
    "score.size  # 元素个数"
   ]
  },
  {
   "cell_type": "code",
   "execution_count": 9,
   "id": "02504bf2-5130-4772-bb19-78c8cc5883af",
   "metadata": {},
   "outputs": [
    {
     "data": {
      "text/plain": [
       "dtype('int32')"
      ]
     },
     "execution_count": 9,
     "metadata": {},
     "output_type": "execute_result"
    }
   ],
   "source": [
    "score.dtype  # 元素类型"
   ]
  },
  {
   "cell_type": "code",
   "execution_count": 10,
   "id": "8f965102-e140-4b73-a5c0-4c6562b5fc54",
   "metadata": {},
   "outputs": [
    {
     "data": {
      "text/plain": [
       "4"
      ]
     },
     "execution_count": 10,
     "metadata": {},
     "output_type": "execute_result"
    }
   ],
   "source": [
    "score.itemsize  # 单个元素所占内存"
   ]
  },
  {
   "cell_type": "markdown",
   "id": "65de559d-10a7-48c8-a3e6-a4f7493ed715",
   "metadata": {
    "jp-MarkdownHeadingCollapsed": true
   },
   "source": [
    "#### ②ndarray的形状"
   ]
  },
  {
   "cell_type": "code",
   "execution_count": 11,
   "id": "cdb60109-7b2c-4508-810c-7d95778ec406",
   "metadata": {},
   "outputs": [],
   "source": [
    "a = np.array([[1,2,3],[4,5,6]])\n",
    "b = np.array([1,2,3,4])\n",
    "c = np.array([[[1,2,3],[4,5,6]],[[1,2,3],[4,5,6]]])"
   ]
  },
  {
   "cell_type": "code",
   "execution_count": 12,
   "id": "92c52180-e703-476b-ad9b-69e6ebde2fea",
   "metadata": {},
   "outputs": [
    {
     "data": {
      "text/plain": [
       "array([[1, 2, 3],\n",
       "       [4, 5, 6]])"
      ]
     },
     "execution_count": 12,
     "metadata": {},
     "output_type": "execute_result"
    }
   ],
   "source": [
    "a  # (2, 3)"
   ]
  },
  {
   "cell_type": "code",
   "execution_count": 13,
   "id": "a5cfdb76-0e1a-4316-8882-59d88a514ad8",
   "metadata": {},
   "outputs": [
    {
     "data": {
      "text/plain": [
       "array([1, 2, 3, 4])"
      ]
     },
     "execution_count": 13,
     "metadata": {},
     "output_type": "execute_result"
    }
   ],
   "source": [
    "b  # (4,)"
   ]
  },
  {
   "cell_type": "code",
   "execution_count": 14,
   "id": "8d4c24c1-17cb-417b-92ab-d19d1e64bb90",
   "metadata": {},
   "outputs": [
    {
     "data": {
      "text/plain": [
       "array([[[1, 2, 3],\n",
       "        [4, 5, 6]],\n",
       "\n",
       "       [[1, 2, 3],\n",
       "        [4, 5, 6]]])"
      ]
     },
     "execution_count": 14,
     "metadata": {},
     "output_type": "execute_result"
    }
   ],
   "source": [
    "c  # (2, 2, 3)，三维数组"
   ]
  },
  {
   "cell_type": "code",
   "execution_count": 15,
   "id": "94882303-47f5-4359-940e-6844ed69921a",
   "metadata": {},
   "outputs": [
    {
     "data": {
      "text/plain": [
       "(2, 3)"
      ]
     },
     "execution_count": 15,
     "metadata": {},
     "output_type": "execute_result"
    }
   ],
   "source": [
    "a.shape"
   ]
  },
  {
   "cell_type": "code",
   "execution_count": 16,
   "id": "f873a73c-5782-4bdc-bba5-2ab45612bff3",
   "metadata": {},
   "outputs": [
    {
     "data": {
      "text/plain": [
       "(4,)"
      ]
     },
     "execution_count": 16,
     "metadata": {},
     "output_type": "execute_result"
    }
   ],
   "source": [
    "b.shape"
   ]
  },
  {
   "cell_type": "code",
   "execution_count": 17,
   "id": "efa35236-d214-4c2e-a5ff-d5c3812f4a13",
   "metadata": {},
   "outputs": [
    {
     "data": {
      "text/plain": [
       "(2, 2, 3)"
      ]
     },
     "execution_count": 17,
     "metadata": {},
     "output_type": "execute_result"
    }
   ],
   "source": [
    "c.shape"
   ]
  },
  {
   "cell_type": "markdown",
   "id": "e9b4bef8-cbaf-458e-a78b-407afbe4cd4a",
   "metadata": {
    "jp-MarkdownHeadingCollapsed": true
   },
   "source": [
    "#### ③ndarray的类型"
   ]
  },
  {
   "cell_type": "code",
   "execution_count": 18,
   "id": "68521f98-87b3-4274-bb44-a61ac0a5cbd5",
   "metadata": {},
   "outputs": [],
   "source": [
    "data = np.array([1.1, 2.2, 3.3])"
   ]
  },
  {
   "cell_type": "code",
   "execution_count": 19,
   "id": "d068b049-0bbb-466f-baa7-12296a03dd2d",
   "metadata": {},
   "outputs": [
    {
     "data": {
      "text/plain": [
       "array([1.1, 2.2, 3.3])"
      ]
     },
     "execution_count": 19,
     "metadata": {},
     "output_type": "execute_result"
    }
   ],
   "source": [
    "data"
   ]
  },
  {
   "cell_type": "code",
   "execution_count": 20,
   "id": "4294c0b1-9a9d-478e-9dff-55efacb6c8ec",
   "metadata": {},
   "outputs": [
    {
     "data": {
      "text/plain": [
       "dtype('float64')"
      ]
     },
     "execution_count": 20,
     "metadata": {},
     "output_type": "execute_result"
    }
   ],
   "source": [
    "data.dtype"
   ]
  },
  {
   "cell_type": "code",
   "execution_count": 22,
   "id": "f4c87d92-115c-43fe-8a6d-341a0f90040b",
   "metadata": {},
   "outputs": [
    {
     "data": {
      "text/plain": [
       "array([1.1, 2.2, 3.3], dtype=float32)"
      ]
     },
     "execution_count": 22,
     "metadata": {},
     "output_type": "execute_result"
    }
   ],
   "source": [
    "# 创建数组时指定类型\n",
    "np.array([1.1, 2.2, 3.3], dtype=\"float32\")"
   ]
  },
  {
   "cell_type": "code",
   "execution_count": 23,
   "id": "bda7d49a-f84a-4a78-ba0a-4a73f3dfe7db",
   "metadata": {},
   "outputs": [
    {
     "data": {
      "text/plain": [
       "array([1.1, 2.2, 3.3], dtype=float32)"
      ]
     },
     "execution_count": 23,
     "metadata": {},
     "output_type": "execute_result"
    }
   ],
   "source": [
    "np.array([1.1, 2.2, 3.3], dtype=np.float32)"
   ]
  },
  {
   "cell_type": "markdown",
   "id": "2ebc2c4e-ea6a-4744-9574-d1c8ad81e91f",
   "metadata": {},
   "source": [
    "### 2、生成数组的方法"
   ]
  },
  {
   "cell_type": "markdown",
   "id": "24e6bfc5-ec90-4d89-9517-1ee9b6e631b7",
   "metadata": {
    "jp-MarkdownHeadingCollapsed": true
   },
   "source": [
    "#### ①生成0和1数组"
   ]
  },
  {
   "cell_type": "code",
   "execution_count": 25,
   "id": "a0bf3cbc-5cfb-40b2-b657-ea00ffc3b81b",
   "metadata": {},
   "outputs": [
    {
     "data": {
      "text/plain": [
       "array([[1., 1., 1.],\n",
       "       [1., 1., 1.]], dtype=float32)"
      ]
     },
     "execution_count": 25,
     "metadata": {},
     "output_type": "execute_result"
    }
   ],
   "source": [
    "np.ones(shape=(2, 3), dtype=\"float32\")"
   ]
  },
  {
   "cell_type": "code",
   "execution_count": 26,
   "id": "58c2bcbe-87a3-437c-ba61-318b6d75423f",
   "metadata": {},
   "outputs": [
    {
     "data": {
      "text/plain": [
       "array([[[0, 0],\n",
       "        [0, 0],\n",
       "        [0, 0],\n",
       "        [0, 0]],\n",
       "\n",
       "       [[0, 0],\n",
       "        [0, 0],\n",
       "        [0, 0],\n",
       "        [0, 0]],\n",
       "\n",
       "       [[0, 0],\n",
       "        [0, 0],\n",
       "        [0, 0],\n",
       "        [0, 0]]])"
      ]
     },
     "execution_count": 26,
     "metadata": {},
     "output_type": "execute_result"
    }
   ],
   "source": [
    "np.zeros(shape=[3, 4, 2], dtype=\"int32\")"
   ]
  },
  {
   "cell_type": "markdown",
   "id": "4835226a-c41b-48dc-a8af-ff6f0c8d2a56",
   "metadata": {
    "jp-MarkdownHeadingCollapsed": true
   },
   "source": [
    "#### ②从现有数组生成"
   ]
  },
  {
   "cell_type": "code",
   "execution_count": 27,
   "id": "92a31c32-e81c-4d42-8f19-ce7db2a94078",
   "metadata": {},
   "outputs": [
    {
     "data": {
      "text/plain": [
       "array([[80, 89, 86, 67, 79],\n",
       "       [78, 97, 89, 67, 81],\n",
       "       [90, 94, 78, 67, 74],\n",
       "       [91, 91, 90, 67, 69],\n",
       "       [76, 87, 75, 67, 86],\n",
       "       [70, 79, 84, 67, 84],\n",
       "       [94, 92, 93, 67, 64],\n",
       "       [86, 85, 83, 67, 80]])"
      ]
     },
     "execution_count": 27,
     "metadata": {},
     "output_type": "execute_result"
    }
   ],
   "source": [
    "score"
   ]
  },
  {
   "cell_type": "code",
   "execution_count": 28,
   "id": "2cba2eae-03d4-4efa-ad5e-d2b6cf9f6292",
   "metadata": {},
   "outputs": [],
   "source": [
    "data1 = np.array(score)"
   ]
  },
  {
   "cell_type": "code",
   "execution_count": 29,
   "id": "94aeeb8e-d414-452e-88bc-798233baf7e8",
   "metadata": {},
   "outputs": [
    {
     "data": {
      "text/plain": [
       "array([[80, 89, 86, 67, 79],\n",
       "       [78, 97, 89, 67, 81],\n",
       "       [90, 94, 78, 67, 74],\n",
       "       [91, 91, 90, 67, 69],\n",
       "       [76, 87, 75, 67, 86],\n",
       "       [70, 79, 84, 67, 84],\n",
       "       [94, 92, 93, 67, 64],\n",
       "       [86, 85, 83, 67, 80]])"
      ]
     },
     "execution_count": 29,
     "metadata": {},
     "output_type": "execute_result"
    }
   ],
   "source": [
    "data1"
   ]
  },
  {
   "cell_type": "code",
   "execution_count": 31,
   "id": "18e2e2f2-2063-4661-abaf-b4acbd00334c",
   "metadata": {},
   "outputs": [],
   "source": [
    "data2 = np.asarray(score)"
   ]
  },
  {
   "cell_type": "code",
   "execution_count": 32,
   "id": "5abe2e4b-14b3-45fe-8120-24688cbfe436",
   "metadata": {},
   "outputs": [
    {
     "data": {
      "text/plain": [
       "array([[80, 89, 86, 67, 79],\n",
       "       [78, 97, 89, 67, 81],\n",
       "       [90, 94, 78, 67, 74],\n",
       "       [91, 91, 90, 67, 69],\n",
       "       [76, 87, 75, 67, 86],\n",
       "       [70, 79, 84, 67, 84],\n",
       "       [94, 92, 93, 67, 64],\n",
       "       [86, 85, 83, 67, 80]])"
      ]
     },
     "execution_count": 32,
     "metadata": {},
     "output_type": "execute_result"
    }
   ],
   "source": [
    "data2"
   ]
  },
  {
   "cell_type": "code",
   "execution_count": 33,
   "id": "56fd68b8-c615-45a4-8cec-f4ccb2984dfb",
   "metadata": {},
   "outputs": [],
   "source": [
    "data3 = np.copy(score)"
   ]
  },
  {
   "cell_type": "code",
   "execution_count": 34,
   "id": "5cb40aac-e7df-43a1-9cf8-97807a933d5c",
   "metadata": {},
   "outputs": [
    {
     "data": {
      "text/plain": [
       "array([[80, 89, 86, 67, 79],\n",
       "       [78, 97, 89, 67, 81],\n",
       "       [90, 94, 78, 67, 74],\n",
       "       [91, 91, 90, 67, 69],\n",
       "       [76, 87, 75, 67, 86],\n",
       "       [70, 79, 84, 67, 84],\n",
       "       [94, 92, 93, 67, 64],\n",
       "       [86, 85, 83, 67, 80]])"
      ]
     },
     "execution_count": 34,
     "metadata": {},
     "output_type": "execute_result"
    }
   ],
   "source": [
    "data3"
   ]
  },
  {
   "cell_type": "code",
   "execution_count": 36,
   "id": "51fd0490-2d43-43a0-863f-272698b41434",
   "metadata": {},
   "outputs": [],
   "source": [
    "score[3, 1] = 1000"
   ]
  },
  {
   "cell_type": "code",
   "execution_count": 37,
   "id": "6b7fa427-7c43-4d7b-9ae5-413662fe7eef",
   "metadata": {},
   "outputs": [
    {
     "data": {
      "text/plain": [
       "array([[80, 89, 86, 67, 79],\n",
       "       [78, 97, 89, 67, 81],\n",
       "       [90, 94, 78, 67, 74],\n",
       "       [91, 91, 90, 67, 69],\n",
       "       [76, 87, 75, 67, 86],\n",
       "       [70, 79, 84, 67, 84],\n",
       "       [94, 92, 93, 67, 64],\n",
       "       [86, 85, 83, 67, 80]])"
      ]
     },
     "execution_count": 37,
     "metadata": {},
     "output_type": "execute_result"
    }
   ],
   "source": [
    "data1  # 深拷贝"
   ]
  },
  {
   "cell_type": "code",
   "execution_count": 38,
   "id": "aac1f98c-3dc0-4ae8-bb89-40c60cbd2e32",
   "metadata": {},
   "outputs": [
    {
     "data": {
      "text/plain": [
       "array([[  80,   89,   86,   67,   79],\n",
       "       [  78,   97,   89,   67,   81],\n",
       "       [  90,   94,   78,   67,   74],\n",
       "       [  91, 1000,   90,   67,   69],\n",
       "       [  76,   87,   75,   67,   86],\n",
       "       [  70,   79,   84,   67,   84],\n",
       "       [  94,   92,   93,   67,   64],\n",
       "       [  86,   85,   83,   67,   80]])"
      ]
     },
     "execution_count": 38,
     "metadata": {},
     "output_type": "execute_result"
    }
   ],
   "source": [
    "data2  # 浅拷贝"
   ]
  },
  {
   "cell_type": "code",
   "execution_count": 39,
   "id": "79ad0d9e-de17-4126-b88d-fc9ec19aff58",
   "metadata": {},
   "outputs": [
    {
     "data": {
      "text/plain": [
       "array([[80, 89, 86, 67, 79],\n",
       "       [78, 97, 89, 67, 81],\n",
       "       [90, 94, 78, 67, 74],\n",
       "       [91, 91, 90, 67, 69],\n",
       "       [76, 87, 75, 67, 86],\n",
       "       [70, 79, 84, 67, 84],\n",
       "       [94, 92, 93, 67, 64],\n",
       "       [86, 85, 83, 67, 80]])"
      ]
     },
     "execution_count": 39,
     "metadata": {},
     "output_type": "execute_result"
    }
   ],
   "source": [
    "data3  # 深拷贝"
   ]
  },
  {
   "cell_type": "markdown",
   "id": "bba2be97-8d66-4721-9919-1e74ae42f788",
   "metadata": {
    "jp-MarkdownHeadingCollapsed": true
   },
   "source": [
    "#### ③生成固定范围的数组"
   ]
  },
  {
   "cell_type": "code",
   "execution_count": 41,
   "id": "df68837d-bb79-465d-9fba-83770109b279",
   "metadata": {},
   "outputs": [
    {
     "data": {
      "text/plain": [
       "array([ 0. ,  2.5,  5. ,  7.5, 10. ])"
      ]
     },
     "execution_count": 41,
     "metadata": {},
     "output_type": "execute_result"
    }
   ],
   "source": [
    "np.linspace(0, 10, 5)  # [0, 10]范围，生成5个数"
   ]
  },
  {
   "cell_type": "code",
   "execution_count": 42,
   "id": "6c2b23db-a965-4a52-a3a7-78bfaf191300",
   "metadata": {},
   "outputs": [
    {
     "data": {
      "text/plain": [
       "array([ 0,  5, 10])"
      ]
     },
     "execution_count": 42,
     "metadata": {},
     "output_type": "execute_result"
    }
   ],
   "source": [
    "np.arange(0, 11, 5)  # [0, 10)范围，步长5"
   ]
  },
  {
   "cell_type": "markdown",
   "id": "3b6f8817-e4c1-4ae2-b450-63fee1129344",
   "metadata": {
    "jp-MarkdownHeadingCollapsed": true
   },
   "source": [
    "#### ④生成随机数组"
   ]
  },
  {
   "cell_type": "code",
   "execution_count": 5,
   "id": "b2f202d5-130e-40fe-9433-ba81361dd0ac",
   "metadata": {},
   "outputs": [
    {
     "data": {
      "image/png": "[encoded data removed]",
      "text/plain": [
       "<Figure size 640x480 with 1 Axes>"
      ]
     },
     "metadata": {},
     "output_type": "display_data"
    }
   ],
   "source": [
    "import matplotlib.pyplot as plt\n",
    "\n",
    "# 均匀分布\n",
    "x1 = np.random.uniform(low=-1, high=1, size=100000000)  # 从[-1, 1)中生成100000000个数\n",
    "\n",
    "plt.figure()\n",
    "\n",
    "plt.hist(x1, 1000)\n",
    "\n",
    "plt.show()"
   ]
  },
  {
   "cell_type": "code",
   "execution_count": 6,
   "id": "774d72bf-1040-4941-8f82-0f542b231384",
   "metadata": {},
   "outputs": [
    {
     "data": {
      "image/png": "[encoded data removed]",
      "text/plain": [
       "<Figure size 640x480 with 1 Axes>"
      ]
     },
     "metadata": {},
     "output_type": "display_data"
    }
   ],
   "source": [
    "# 正态分布\n",
    "x2 = np.random.normal(loc=1.5, scale=1, size=100000000)  # 符合正态分布（μ=1.5， σ=1），生成100000000个数\n",
    "\n",
    "plt.figure()\n",
    "\n",
    "plt.hist(x2, 1000)\n",
    "\n",
    "plt.show()"
   ]
  },
  {
   "cell_type": "markdown",
   "id": "444d624f-f25a-4175-b708-a61c5b298818",
   "metadata": {
    "jp-MarkdownHeadingCollapsed": true
   },
   "source": [
    "### 3、数组的索引和切片"
   ]
  },
  {
   "cell_type": "code",
   "execution_count": 8,
   "id": "415740e9-aa34-46cf-87be-4ed1632de0ee",
   "metadata": {},
   "outputs": [],
   "source": [
    "stock_change = np.random.normal(loc=0, scale=1, size=(8, 10))"
   ]
  },
  {
   "cell_type": "code",
   "execution_count": 10,
   "id": "70ecd1a2-2735-4de2-bd24-cb855429d2ee",
   "metadata": {},
   "outputs": [
    {
     "data": {
      "text/plain": [
       "array([[-0.59031747, -0.60101963,  0.69972676, -2.10688121,  1.23022285,\n",
       "        -0.84864911, -0.01029077, -0.55939232,  0.41766156, -0.33299958],\n",
       "       [-0.55738915,  0.29238162, -0.65045224,  0.39014286, -0.43950149,\n",
       "        -0.94978457, -1.0531962 , -0.5427501 ,  1.74695011, -0.29344389],\n",
       "       [-0.29120793, -1.20027761,  0.20767715,  0.60522618, -0.03023124,\n",
       "         0.15258316,  1.10010399,  1.606094  ,  1.08161841,  0.27466812],\n",
       "       [-0.05346603, -0.2067318 , -1.26429858, -0.01234782,  1.03569454,\n",
       "        -1.04439418,  0.24422323, -0.39865162, -0.33336906, -1.03387286],\n",
       "       [ 0.02056959,  0.17321561, -0.04242662, -1.21880235, -0.7590652 ,\n",
       "        -0.92738653, -0.83745534,  0.03638506,  0.24393193,  1.63114059],\n",
       "       [ 0.17217147, -0.95919386,  1.44643925, -0.37448947, -0.87990121,\n",
       "        -0.42721926, -1.80571226,  0.81490498,  1.94131559,  0.31336286],\n",
       "       [-0.09920608,  0.024735  , -0.25114142, -0.93183377,  0.87765184,\n",
       "        -0.81967289,  0.56911339,  1.06094209, -1.30801385, -1.40786868],\n",
       "       [ 0.4586747 , -0.66520245, -1.53578319,  2.23908072, -0.45188432,\n",
       "        -0.14330162, -0.26473373, -0.05270486,  0.48020855, -1.3341866 ]])"
      ]
     },
     "execution_count": 10,
     "metadata": {},
     "output_type": "execute_result"
    }
   ],
   "source": [
    "stock_change"
   ]
  },
  {
   "cell_type": "code",
   "execution_count": 12,
   "id": "3a0b37b0-07f4-4625-b7a9-23d610e14aed",
   "metadata": {},
   "outputs": [
    {
     "data": {
      "text/plain": [
       "array([-0.59031747, -0.60101963,  0.69972676])"
      ]
     },
     "execution_count": 12,
     "metadata": {},
     "output_type": "execute_result"
    }
   ],
   "source": [
    "stock_change[0][:3]"
   ]
  },
  {
   "cell_type": "code",
   "execution_count": 13,
   "id": "eac593fa-cf3b-4a88-983d-cb9ab146c722",
   "metadata": {},
   "outputs": [
    {
     "data": {
      "text/plain": [
       "array([-0.59031747, -0.60101963,  0.69972676])"
      ]
     },
     "execution_count": 13,
     "metadata": {},
     "output_type": "execute_result"
    }
   ],
   "source": [
    "stock_change[0, :3]"
   ]
  },
  {
   "cell_type": "code",
   "execution_count": 14,
   "id": "f192b061-509c-4fe7-82b1-41b7ce1519eb",
   "metadata": {},
   "outputs": [],
   "source": [
    "a1 = np.array([ [[1,2,3],[4,5,6]], [[12,3,34],[5,6,7]]])"
   ]
  },
  {
   "cell_type": "code",
   "execution_count": 15,
   "id": "214f34c7-7756-4e14-9aec-98e969a7263c",
   "metadata": {},
   "outputs": [
    {
     "data": {
      "text/plain": [
       "array([[[ 1,  2,  3],\n",
       "        [ 4,  5,  6]],\n",
       "\n",
       "       [[12,  3, 34],\n",
       "        [ 5,  6,  7]]])"
      ]
     },
     "execution_count": 15,
     "metadata": {},
     "output_type": "execute_result"
    }
   ],
   "source": [
    "a1  # (2, 2, 3)"
   ]
  },
  {
   "cell_type": "code",
   "execution_count": 17,
   "id": "57b7c182-54d1-4f5d-953b-8cbc19972026",
   "metadata": {},
   "outputs": [
    {
     "data": {
      "text/plain": [
       "34"
      ]
     },
     "execution_count": 17,
     "metadata": {},
     "output_type": "execute_result"
    }
   ],
   "source": [
    "a1[1, 0, 2]"
   ]
  },
  {
   "cell_type": "markdown",
   "id": "4c7932b6-2877-4ddf-8e91-a60bb4572b6e",
   "metadata": {
    "jp-MarkdownHeadingCollapsed": true
   },
   "source": [
    "### 4、形状修改"
   ]
  },
  {
   "cell_type": "code",
   "execution_count": 18,
   "id": "4d616892-f6e1-4c0a-8985-17d36b9c86ca",
   "metadata": {},
   "outputs": [
    {
     "data": {
      "text/plain": [
       "array([[-0.59031747, -0.60101963,  0.69972676, -2.10688121,  1.23022285,\n",
       "        -0.84864911, -0.01029077, -0.55939232,  0.41766156, -0.33299958],\n",
       "       [-0.55738915,  0.29238162, -0.65045224,  0.39014286, -0.43950149,\n",
       "        -0.94978457, -1.0531962 , -0.5427501 ,  1.74695011, -0.29344389],\n",
       "       [-0.29120793, -1.20027761,  0.20767715,  0.60522618, -0.03023124,\n",
       "         0.15258316,  1.10010399,  1.606094  ,  1.08161841,  0.27466812],\n",
       "       [-0.05346603, -0.2067318 , -1.26429858, -0.01234782,  1.03569454,\n",
       "        -1.04439418,  0.24422323, -0.39865162, -0.33336906, -1.03387286],\n",
       "       [ 0.02056959,  0.17321561, -0.04242662, -1.21880235, -0.7590652 ,\n",
       "        -0.92738653, -0.83745534,  0.03638506,  0.24393193,  1.63114059],\n",
       "       [ 0.17217147, -0.95919386,  1.44643925, -0.37448947, -0.87990121,\n",
       "        -0.42721926, -1.80571226,  0.81490498,  1.94131559,  0.31336286],\n",
       "       [-0.09920608,  0.024735  , -0.25114142, -0.93183377,  0.87765184,\n",
       "        -0.81967289,  0.56911339,  1.06094209, -1.30801385, -1.40786868],\n",
       "       [ 0.4586747 , -0.66520245, -1.53578319,  2.23908072, -0.45188432,\n",
       "        -0.14330162, -0.26473373, -0.05270486,  0.48020855, -1.3341866 ]])"
      ]
     },
     "execution_count": 18,
     "metadata": {},
     "output_type": "execute_result"
    }
   ],
   "source": [
    "stock_change"
   ]
  },
  {
   "cell_type": "code",
   "execution_count": 19,
   "id": "76a231fd-4831-4b25-a919-a7c4de162ba4",
   "metadata": {},
   "outputs": [
    {
     "data": {
      "text/plain": [
       "(8, 10)"
      ]
     },
     "execution_count": 19,
     "metadata": {},
     "output_type": "execute_result"
    }
   ],
   "source": [
    "stock_change.shape"
   ]
  },
  {
   "cell_type": "code",
   "execution_count": 20,
   "id": "67bb28e0-7562-4818-9645-331954a96d1f",
   "metadata": {},
   "outputs": [
    {
     "data": {
      "text/plain": [
       "array([[-0.59031747, -0.60101963,  0.69972676, -2.10688121,  1.23022285,\n",
       "        -0.84864911, -0.01029077, -0.55939232],\n",
       "       [ 0.41766156, -0.33299958, -0.55738915,  0.29238162, -0.65045224,\n",
       "         0.39014286, -0.43950149, -0.94978457],\n",
       "       [-1.0531962 , -0.5427501 ,  1.74695011, -0.29344389, -0.29120793,\n",
       "        -1.20027761,  0.20767715,  0.60522618],\n",
       "       [-0.03023124,  0.15258316,  1.10010399,  1.606094  ,  1.08161841,\n",
       "         0.27466812, -0.05346603, -0.2067318 ],\n",
       "       [-1.26429858, -0.01234782,  1.03569454, -1.04439418,  0.24422323,\n",
       "        -0.39865162, -0.33336906, -1.03387286],\n",
       "       [ 0.02056959,  0.17321561, -0.04242662, -1.21880235, -0.7590652 ,\n",
       "        -0.92738653, -0.83745534,  0.03638506],\n",
       "       [ 0.24393193,  1.63114059,  0.17217147, -0.95919386,  1.44643925,\n",
       "        -0.37448947, -0.87990121, -0.42721926],\n",
       "       [-1.80571226,  0.81490498,  1.94131559,  0.31336286, -0.09920608,\n",
       "         0.024735  , -0.25114142, -0.93183377],\n",
       "       [ 0.87765184, -0.81967289,  0.56911339,  1.06094209, -1.30801385,\n",
       "        -1.40786868,  0.4586747 , -0.66520245],\n",
       "       [-1.53578319,  2.23908072, -0.45188432, -0.14330162, -0.26473373,\n",
       "        -0.05270486,  0.48020855, -1.3341866 ]])"
      ]
     },
     "execution_count": 20,
     "metadata": {},
     "output_type": "execute_result"
    }
   ],
   "source": [
    "stock_change.reshape((10, 8))  \n",
    "# 只改变形状，不改变数据排列顺序\n",
    "# 生成新的 ndarray，不改变原数据"
   ]
  },
  {
   "cell_type": "code",
   "execution_count": 21,
   "id": "c2577cd0-0984-4cd6-8f64-152496b4aad7",
   "metadata": {},
   "outputs": [
    {
     "data": {
      "text/plain": [
       "array([[-0.59031747, -0.60101963,  0.69972676, -2.10688121,  1.23022285,\n",
       "        -0.84864911, -0.01029077, -0.55939232,  0.41766156, -0.33299958],\n",
       "       [-0.55738915,  0.29238162, -0.65045224,  0.39014286, -0.43950149,\n",
       "        -0.94978457, -1.0531962 , -0.5427501 ,  1.74695011, -0.29344389],\n",
       "       [-0.29120793, -1.20027761,  0.20767715,  0.60522618, -0.03023124,\n",
       "         0.15258316,  1.10010399,  1.606094  ,  1.08161841,  0.27466812],\n",
       "       [-0.05346603, -0.2067318 , -1.26429858, -0.01234782,  1.03569454,\n",
       "        -1.04439418,  0.24422323, -0.39865162, -0.33336906, -1.03387286],\n",
       "       [ 0.02056959,  0.17321561, -0.04242662, -1.21880235, -0.7590652 ,\n",
       "        -0.92738653, -0.83745534,  0.03638506,  0.24393193,  1.63114059],\n",
       "       [ 0.17217147, -0.95919386,  1.44643925, -0.37448947, -0.87990121,\n",
       "        -0.42721926, -1.80571226,  0.81490498,  1.94131559,  0.31336286],\n",
       "       [-0.09920608,  0.024735  , -0.25114142, -0.93183377,  0.87765184,\n",
       "        -0.81967289,  0.56911339,  1.06094209, -1.30801385, -1.40786868],\n",
       "       [ 0.4586747 , -0.66520245, -1.53578319,  2.23908072, -0.45188432,\n",
       "        -0.14330162, -0.26473373, -0.05270486,  0.48020855, -1.3341866 ]])"
      ]
     },
     "execution_count": 21,
     "metadata": {},
     "output_type": "execute_result"
    }
   ],
   "source": [
    "stock_change"
   ]
  },
  {
   "cell_type": "code",
   "execution_count": 22,
   "id": "5dc77aad-be37-4471-b451-12b5ad06dc5a",
   "metadata": {},
   "outputs": [],
   "source": [
    "stock_change.resize((10, 8))  \n",
    "# 只改变形状，不改变数据排列顺序\n",
    "# 无返回值，直接改变原 ndarray"
   ]
  },
  {
   "cell_type": "code",
   "execution_count": 23,
   "id": "4c60390e-459a-4e84-9b73-03d3b8e4fc86",
   "metadata": {},
   "outputs": [
    {
     "data": {
      "text/plain": [
       "(10, 8)"
      ]
     },
     "execution_count": 23,
     "metadata": {},
     "output_type": "execute_result"
    }
   ],
   "source": [
    "stock_change.shape"
   ]
  },
  {
   "cell_type": "code",
   "execution_count": 24,
   "id": "80fb6d9e-84d0-4313-9623-edffd4f012c4",
   "metadata": {},
   "outputs": [
    {
     "data": {
      "text/plain": [
       "array([[-0.59031747, -0.60101963,  0.69972676, -2.10688121,  1.23022285,\n",
       "        -0.84864911, -0.01029077, -0.55939232],\n",
       "       [ 0.41766156, -0.33299958, -0.55738915,  0.29238162, -0.65045224,\n",
       "         0.39014286, -0.43950149, -0.94978457],\n",
       "       [-1.0531962 , -0.5427501 ,  1.74695011, -0.29344389, -0.29120793,\n",
       "        -1.20027761,  0.20767715,  0.60522618],\n",
       "       [-0.03023124,  0.15258316,  1.10010399,  1.606094  ,  1.08161841,\n",
       "         0.27466812, -0.05346603, -0.2067318 ],\n",
       "       [-1.26429858, -0.01234782,  1.03569454, -1.04439418,  0.24422323,\n",
       "        -0.39865162, -0.33336906, -1.03387286],\n",
       "       [ 0.02056959,  0.17321561, -0.04242662, -1.21880235, -0.7590652 ,\n",
       "        -0.92738653, -0.83745534,  0.03638506],\n",
       "       [ 0.24393193,  1.63114059,  0.17217147, -0.95919386,  1.44643925,\n",
       "        -0.37448947, -0.87990121, -0.42721926],\n",
       "       [-1.80571226,  0.81490498,  1.94131559,  0.31336286, -0.09920608,\n",
       "         0.024735  , -0.25114142, -0.93183377],\n",
       "       [ 0.87765184, -0.81967289,  0.56911339,  1.06094209, -1.30801385,\n",
       "        -1.40786868,  0.4586747 , -0.66520245],\n",
       "       [-1.53578319,  2.23908072, -0.45188432, -0.14330162, -0.26473373,\n",
       "        -0.05270486,  0.48020855, -1.3341866 ]])"
      ]
     },
     "execution_count": 24,
     "metadata": {},
     "output_type": "execute_result"
    }
   ],
   "source": [
    "stock_change"
   ]
  },
  {
   "cell_type": "code",
   "execution_count": 25,
   "id": "661b943b-ac31-4fb3-83a8-297b783bf21d",
   "metadata": {},
   "outputs": [],
   "source": [
    "stock_change.resize((8, 10))  "
   ]
  },
  {
   "cell_type": "code",
   "execution_count": 26,
   "id": "6a0ab882-1556-49a6-9481-6076e4566540",
   "metadata": {},
   "outputs": [
    {
     "data": {
      "text/plain": [
       "array([[-0.59031747, -0.60101963,  0.69972676, -2.10688121,  1.23022285,\n",
       "        -0.84864911, -0.01029077, -0.55939232,  0.41766156, -0.33299958],\n",
       "       [-0.55738915,  0.29238162, -0.65045224,  0.39014286, -0.43950149,\n",
       "        -0.94978457, -1.0531962 , -0.5427501 ,  1.74695011, -0.29344389],\n",
       "       [-0.29120793, -1.20027761,  0.20767715,  0.60522618, -0.03023124,\n",
       "         0.15258316,  1.10010399,  1.606094  ,  1.08161841,  0.27466812],\n",
       "       [-0.05346603, -0.2067318 , -1.26429858, -0.01234782,  1.03569454,\n",
       "        -1.04439418,  0.24422323, -0.39865162, -0.33336906, -1.03387286],\n",
       "       [ 0.02056959,  0.17321561, -0.04242662, -1.21880235, -0.7590652 ,\n",
       "        -0.92738653, -0.83745534,  0.03638506,  0.24393193,  1.63114059],\n",
       "       [ 0.17217147, -0.95919386,  1.44643925, -0.37448947, -0.87990121,\n",
       "        -0.42721926, -1.80571226,  0.81490498,  1.94131559,  0.31336286],\n",
       "       [-0.09920608,  0.024735  , -0.25114142, -0.93183377,  0.87765184,\n",
       "        -0.81967289,  0.56911339,  1.06094209, -1.30801385, -1.40786868],\n",
       "       [ 0.4586747 , -0.66520245, -1.53578319,  2.23908072, -0.45188432,\n",
       "        -0.14330162, -0.26473373, -0.05270486,  0.48020855, -1.3341866 ]])"
      ]
     },
     "execution_count": 26,
     "metadata": {},
     "output_type": "execute_result"
    }
   ],
   "source": [
    "stock_change"
   ]
  },
  {
   "cell_type": "code",
   "execution_count": 27,
   "id": "755abde3-c842-4f8d-b86b-26a9199bcb54",
   "metadata": {},
   "outputs": [
    {
     "data": {
      "text/plain": [
       "array([[-0.59031747, -0.55738915, -0.29120793, -0.05346603,  0.02056959,\n",
       "         0.17217147, -0.09920608,  0.4586747 ],\n",
       "       [-0.60101963,  0.29238162, -1.20027761, -0.2067318 ,  0.17321561,\n",
       "        -0.95919386,  0.024735  , -0.66520245],\n",
       "       [ 0.69972676, -0.65045224,  0.20767715, -1.26429858, -0.04242662,\n",
       "         1.44643925, -0.25114142, -1.53578319],\n",
       "       [-2.10688121,  0.39014286,  0.60522618, -0.01234782, -1.21880235,\n",
       "        -0.37448947, -0.93183377,  2.23908072],\n",
       "       [ 1.23022285, -0.43950149, -0.03023124,  1.03569454, -0.7590652 ,\n",
       "        -0.87990121,  0.87765184, -0.45188432],\n",
       "       [-0.84864911, -0.94978457,  0.15258316, -1.04439418, -0.92738653,\n",
       "        -0.42721926, -0.81967289, -0.14330162],\n",
       "       [-0.01029077, -1.0531962 ,  1.10010399,  0.24422323, -0.83745534,\n",
       "        -1.80571226,  0.56911339, -0.26473373],\n",
       "       [-0.55939232, -0.5427501 ,  1.606094  , -0.39865162,  0.03638506,\n",
       "         0.81490498,  1.06094209, -0.05270486],\n",
       "       [ 0.41766156,  1.74695011,  1.08161841, -0.33336906,  0.24393193,\n",
       "         1.94131559, -1.30801385,  0.48020855],\n",
       "       [-0.33299958, -0.29344389,  0.27466812, -1.03387286,  1.63114059,\n",
       "         0.31336286, -1.40786868, -1.3341866 ]])"
      ]
     },
     "execution_count": 27,
     "metadata": {},
     "output_type": "execute_result"
    }
   ],
   "source": [
    "stock_change.T\n",
    "# 转置，行变成列，列变成行"
   ]
  },
  {
   "cell_type": "code",
   "execution_count": 28,
   "id": "126c5c49-29dd-4788-ba39-7b5bdaf431d8",
   "metadata": {},
   "outputs": [
    {
     "data": {
      "text/plain": [
       "(8, 10)"
      ]
     },
     "execution_count": 28,
     "metadata": {},
     "output_type": "execute_result"
    }
   ],
   "source": [
    "stock_change.shape"
   ]
  },
  {
   "cell_type": "markdown",
   "id": "82f5597f-738e-46d9-9423-38e0124b0f65",
   "metadata": {
    "jp-MarkdownHeadingCollapsed": true
   },
   "source": [
    "### 5、类型修改"
   ]
  },
  {
   "cell_type": "code",
   "execution_count": 29,
   "id": "562fa407-4b3c-4519-a6b5-b24a8fe249bc",
   "metadata": {},
   "outputs": [
    {
     "data": {
      "text/plain": [
       "array([[ 0,  0,  0, -2,  1,  0,  0,  0,  0,  0],\n",
       "       [ 0,  0,  0,  0,  0,  0, -1,  0,  1,  0],\n",
       "       [ 0, -1,  0,  0,  0,  0,  1,  1,  1,  0],\n",
       "       [ 0,  0, -1,  0,  1, -1,  0,  0,  0, -1],\n",
       "       [ 0,  0,  0, -1,  0,  0,  0,  0,  0,  1],\n",
       "       [ 0,  0,  1,  0,  0,  0, -1,  0,  1,  0],\n",
       "       [ 0,  0,  0,  0,  0,  0,  0,  1, -1, -1],\n",
       "       [ 0,  0, -1,  2,  0,  0,  0,  0,  0, -1]])"
      ]
     },
     "execution_count": 29,
     "metadata": {},
     "output_type": "execute_result"
    }
   ],
   "source": [
    "stock_change.astype(\"int32\")"
   ]
  },
  {
   "cell_type": "code",
   "execution_count": 30,
   "id": "70c0b335-95cb-4b03-8182-95d9395cfefb",
   "metadata": {},
   "outputs": [
    {
     "name": "stderr",
     "output_type": "stream",
     "text": [
      "C:\\Users\\18720\\AppData\\Local\\Temp\\ipykernel_8668\\2585261449.py:2: DeprecationWarning: tostring() is deprecated. Use tobytes() instead.\n",
      "  stock_change.tostring()\n"
     ]
    },
    {
     "data": {
      "text/plain": [
       "b'\\xfd\\x1e\\x1fv\\xe1\\xe3\\xe2\\xbf|\\xee\\xb8\\x82\\x8d;\\xe3\\xbf%\\x08\\x08`)d\\xe6?\\xbeY\\x89\\x89\\xe4\\xda\\x00\\xc06^\\x83&\\xfe\\xae\\xf3?l\\x13\\xd3+\"(\\xeb\\xbfY\\xcf\\xc1\\x03T\\x13\\x85\\xbfe-\\xa8\\xb8\\x8a\\xe6\\xe1\\xbfea\\xf8\\x89\\xf7\\xba\\xda?\\xe9):|\\xddO\\xd5\\xbf \\xfc\\x0f\\xc6!\\xd6\\xe1\\xbf\\xc0\\xe6\\xebja\\xb6\\xd2?\\xcaB\\xf77\\x81\\xd0\\xe4\\xbf\\xa5\\x8c\\xf8\\xc2\\x19\\xf8\\xd8?\\x86M\\xba\\xd8\\xca \\xdc\\xbf\\x95\\x18\\xbc\\x9a\\xa2d\\xee\\xbf\\x8dD\\xa4A\\xe4\\xd9\\xf0\\xbf\\xd5\\xf6\\x01u5^\\xe1\\xbf\\xd9\\x08\\r\\xf4\\x81\\xf3\\xfb?\\xc3\\xac\\r\\xdd\\xc8\\xc7\\xd2\\xbf6\\x8f$\\x96&\\xa3\\xd2\\xbf\\xa7v\\xa3LV4\\xf3\\xbfp\\x8e++*\\x95\\xca?\\x93\\xde\\x8dI\\x03^\\xe3?X\\xd2\\x08 \\xf0\\xf4\\x9e\\xbf\\x07Q\\x1bU\\xd8\\x87\\xc3?<\\xafc\\xa4\\x06\\x9a\\xf1?e\\xbf\\xc3\\x9e\\x8f\\xb2\\xf9?Y\\x08X\\x1aON\\xf1?\\x13?5\\x9b)\\x94\\xd1?U\\x87\\xfcM\\xe6_\\xab\\xbfY\\x9cy\\x030v\\xca\\xbfn\\x05\\xd9&\\x91:\\xf4\\xbf\\xc5\\x8d\\xd7\\xcb\\xd0I\\x89\\xbfs\\x91^o4\\x92\\xf0?~\\xf1q\\xac\\xd6\\xb5\\xf0\\xbf\\x9fn\\xaf\\xec\\xb4B\\xcf?*\\x7f\\xfe\\x15\\x82\\x83\\xd9\\xbf\\x0ew2.\\xebU\\xd5\\xbfS8HD\\xbe\\x8a\\xf0\\xbf\\xd8\\xdd\\xbd\\xf41\\x10\\x95?.P%\\xde\\xed+\\xc6?\\x1eS\\x88\\x04\\xf1\\xb8\\xa5\\xbf\\x8c\\xbf\\x7f\\xe46\\x80\\xf3\\xbf\\x99\\x14\\xd2\\x1aCJ\\xe8\\xbf\\xfbi\\xbf\\x86&\\xad\\xed\\xbf\\xbb\\xb1\\xdb\"o\\xcc\\xea\\xbf\\x14\\xb7\\xd4\\xf0\\x0f\\xa1\\xa2?+\\xd5\\x9b^)9\\xcf?`\\x89\\xe0\\xe0&\\x19\\xfa?U;&\\x00\\xb7\\t\\xc6?I&\\xc6T\\xb7\\xb1\\xee\\xbfsE\\x83|\\x9d$\\xf7?Y\\x1d\\xcb\\xa9\\xa2\\xf7\\xd7\\xbfhj\\x19\\x97&(\\xec\\xbf\\x91\\xe4gn\\x8fW\\xdb\\xbf\\xa3t\\xa5\\x882\\xe4\\xfc\\xbfE\\xf8\\xa3\\x9c\\xb3\\x13\\xea?\\xfd\\xd6\\x9b\\xef\\xa0\\x0f\\xff?\\xbb\\xa1,\\x17#\\x0e\\xd4?\\xd7-\\x82\\xdc\\x91e\\xb9\\xbfQ\\xe5R\\xdf!T\\x99?\\xa7\\xc5\\x82u\\xb3\\x12\\xd0\\xbf\\xdb=\\xcd\\x0e\\x95\\xd1\\xed\\xbf@\\x9b\\x1aN\\xb9\\x15\\xec?\\xa98\\x16\\xa2\\xc2:\\xea\\xbf\\xa6\\xddyG-6\\xe2?w>\\xadj\\x9e\\xf9\\xf0?\\x00>z\\xee\\x9f\\xed\\xf4\\xbf3\\x895O\\xa1\\x86\\xf6\\xbf/\\x10\\xf4\\x1d\\xedZ\\xdd?\\xe1\\xeev\\xa3VI\\xe5\\xbf\\xd91\\xcec\\x91\\x92\\xf8\\xbf\\xcc r&\\xa3\\xe9\\x01@\\x9a\\nj6\\xac\\xeb\\xdc\\xbf\\x1c\\xd4\\xde\"\\xb5W\\xc2\\xbf\\x88b1\\xbbe\\xf1\\xd0\\xbf\\x17\\xe1\\xa2|!\\xfc\\xaa\\xbf\\xf6#T\\xa1\\xbc\\xbb\\xde?\\xb8}\\xab\\x0b\\xd4X\\xf5\\xbf'"
      ]
     },
     "execution_count": 30,
     "metadata": {},
     "output_type": "execute_result"
    }
   ],
   "source": [
    "# 序列化\n",
    "stock_change.tostring()"
   ]
  },
  {
   "cell_type": "markdown",
   "id": "69eb0ba8-310a-4758-abfe-995d1d8c88f2",
   "metadata": {
    "jp-MarkdownHeadingCollapsed": true
   },
   "source": [
    "### 6、数组的去重"
   ]
  },
  {
   "cell_type": "code",
   "execution_count": 31,
   "id": "dc6acbd2-2671-4b17-b419-fb1af4216a0b",
   "metadata": {},
   "outputs": [],
   "source": [
    "temp = np.array([[1, 2, 3, 4],[3, 4, 5, 6]])"
   ]
  },
  {
   "cell_type": "code",
   "execution_count": 32,
   "id": "f43bd552-2d14-406f-9abf-cdecbea229db",
   "metadata": {},
   "outputs": [
    {
     "data": {
      "text/plain": [
       "array([[1, 2, 3, 4],\n",
       "       [3, 4, 5, 6]])"
      ]
     },
     "execution_count": 32,
     "metadata": {},
     "output_type": "execute_result"
    }
   ],
   "source": [
    "temp"
   ]
  },
  {
   "cell_type": "code",
   "execution_count": 34,
   "id": "4d6a7a7a-e37d-46cb-9015-4416f33320de",
   "metadata": {},
   "outputs": [
    {
     "data": {
      "text/plain": [
       "array([1, 2, 3, 4, 5, 6])"
      ]
     },
     "execution_count": 34,
     "metadata": {},
     "output_type": "execute_result"
    }
   ],
   "source": [
    "np.unique(temp)"
   ]
  },
  {
   "cell_type": "code",
   "execution_count": 35,
   "id": "7a4648bd-5eb3-41ef-b337-feb154c20c24",
   "metadata": {},
   "outputs": [
    {
     "data": {
      "text/plain": [
       "{1, 2, 3, 4, 5, 6}"
      ]
     },
     "execution_count": 35,
     "metadata": {},
     "output_type": "execute_result"
    }
   ],
   "source": [
    "set(temp.flatten())\n",
    "# 只适用于一维"
   ]
  }
 ],
 "metadata": {
  "kernelspec": {
   "display_name": "Python 3 (ipykernel)",
   "language": "python",
   "name": "python3"
  },
  "language_info": {
   "codemirror_mode": {
    "name": "ipython",
    "version": 3
   },
   "file_extension": ".py",
   "mimetype": "text/x-python",
   "name": "python",
   "nbconvert_exporter": "python",
   "pygments_lexer": "ipython3",
   "version": "3.11.7"
  }
 },
 "nbformat": 4,
 "nbformat_minor": 5
}
