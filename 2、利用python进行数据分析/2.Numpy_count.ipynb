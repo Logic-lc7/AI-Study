{
 "cells": [
  {
   "cell_type": "markdown",
   "id": "f9655304-9801-463b-ba52-4481161c9062",
   "metadata": {
    "jp-MarkdownHeadingCollapsed": true
   },
   "source": [
    "### 1、逻辑运算"
   ]
  },
  {
   "cell_type": "code",
   "execution_count": 2,
   "id": "cd0070dc-30eb-4554-a2d6-bbe770b0297b",
   "metadata": {},
   "outputs": [],
   "source": [
    "import numpy as np\n",
    "stock_change = np.random.normal(loc=0, scale=1, size=(8, 10))"
   ]
  },
  {
   "cell_type": "code",
   "execution_count": 2,
   "id": "e7ee4f95-4e4b-4169-a87e-ec9041fd99a0",
   "metadata": {},
   "outputs": [
    {
     "data": {
      "text/plain": [
       "array([[ 0.64326146, -1.41741155, -0.03213892,  0.71792731,  0.79948875,\n",
       "         0.70224627,  0.69442911,  1.79047143,  0.71805163,  1.07876756],\n",
       "       [-1.68239285, -0.73154805,  0.06769326,  0.20615696,  0.85701273,\n",
       "         0.58917519,  1.01472065, -0.33339509, -0.72443531, -0.34289181],\n",
       "       [ 0.19333838, -0.39109997, -0.67482769, -0.58956485, -0.66588434,\n",
       "        -0.80283959,  3.36766507, -1.47611793,  0.40845955, -1.27006384],\n",
       "       [-0.01936531, -0.54125946, -0.33467765,  0.75418895,  0.66800866,\n",
       "         0.06769091, -0.49305072,  1.49228884,  0.02114607, -0.54552951],\n",
       "       [ 1.19971121, -1.23858538, -1.06340256,  1.08664779, -0.20119848,\n",
       "         0.32809328,  2.01757618,  1.35305609,  0.79449169,  0.81734081],\n",
       "       [-0.3484097 ,  0.78634999, -1.5702257 ,  0.72775156, -1.94546175,\n",
       "         0.85475762,  1.72788577,  1.21950218, -1.42042402, -0.18696216],\n",
       "       [-0.87387662, -1.11261149, -0.48101959, -0.43128963, -0.72088993,\n",
       "        -0.98866675, -2.37122552,  0.62829974,  1.07173287, -1.57554591],\n",
       "       [ 0.46173415, -1.0238809 , -0.41073958, -0.16600653, -0.59952296,\n",
       "         0.00957796,  0.47092539, -0.79168667,  1.058413  ,  0.17519044]])"
      ]
     },
     "execution_count": 2,
     "metadata": {},
     "output_type": "execute_result"
    }
   ],
   "source": [
    "stock_change"
   ]
  },
  {
   "cell_type": "code",
   "execution_count": 3,
   "id": "16bf59b6-c544-4dda-a17e-551c06b753aa",
   "metadata": {},
   "outputs": [
    {
     "data": {
      "text/plain": [
       "array([[ True, False, False,  True,  True,  True,  True,  True,  True,\n",
       "         True],\n",
       "       [False, False, False, False,  True,  True,  True, False, False,\n",
       "        False],\n",
       "       [False, False, False, False, False, False,  True, False, False,\n",
       "        False],\n",
       "       [False, False, False,  True,  True, False, False,  True, False,\n",
       "        False],\n",
       "       [ True, False, False,  True, False, False,  True,  True,  True,\n",
       "         True],\n",
       "       [False,  True, False,  True, False,  True,  True,  True, False,\n",
       "        False],\n",
       "       [False, False, False, False, False, False, False,  True,  True,\n",
       "        False],\n",
       "       [False, False, False, False, False, False, False, False,  True,\n",
       "        False]])"
      ]
     },
     "execution_count": 3,
     "metadata": {},
     "output_type": "execute_result"
    }
   ],
   "source": [
    "# 逻辑判断\n",
    "stock_change > 0.5"
   ]
  },
  {
   "cell_type": "code",
   "execution_count": 5,
   "id": "04e4ddfb-1300-4d8a-9365-00fc60486b8e",
   "metadata": {},
   "outputs": [
    {
     "data": {
      "text/plain": [
       "array([0.64326146, 0.71792731, 0.79948875, 0.70224627, 0.69442911,\n",
       "       1.79047143, 0.71805163, 1.07876756, 0.85701273, 0.58917519,\n",
       "       1.01472065, 3.36766507, 0.75418895, 0.66800866, 1.49228884,\n",
       "       1.19971121, 1.08664779, 2.01757618, 1.35305609, 0.79449169,\n",
       "       0.81734081, 0.78634999, 0.72775156, 0.85475762, 1.72788577,\n",
       "       1.21950218, 0.62829974, 1.07173287, 1.058413  ])"
      ]
     },
     "execution_count": 5,
     "metadata": {},
     "output_type": "execute_result"
    }
   ],
   "source": [
    "# 布尔索引\n",
    "stock_change[stock_change > 0.5]"
   ]
  },
  {
   "cell_type": "code",
   "execution_count": 6,
   "id": "a179f16e-c43b-49d9-a8f1-637e4e05c06d",
   "metadata": {},
   "outputs": [],
   "source": [
    "stock_change[stock_change > 0.5] = 1"
   ]
  },
  {
   "cell_type": "code",
   "execution_count": 8,
   "id": "7af3b6e5-a359-43bb-9980-87c9175da787",
   "metadata": {},
   "outputs": [
    {
     "data": {
      "text/plain": [
       "array([[ 1.        , -1.41741155, -0.03213892,  1.        ,  1.        ,\n",
       "         1.        ,  1.        ,  1.        ,  1.        ,  1.        ],\n",
       "       [-1.68239285, -0.73154805,  0.06769326,  0.20615696,  1.        ,\n",
       "         1.        ,  1.        , -0.33339509, -0.72443531, -0.34289181],\n",
       "       [ 0.19333838, -0.39109997, -0.67482769, -0.58956485, -0.66588434,\n",
       "        -0.80283959,  1.        , -1.47611793,  0.40845955, -1.27006384],\n",
       "       [-0.01936531, -0.54125946, -0.33467765,  1.        ,  1.        ,\n",
       "         0.06769091, -0.49305072,  1.        ,  0.02114607, -0.54552951],\n",
       "       [ 1.        , -1.23858538, -1.06340256,  1.        , -0.20119848,\n",
       "         0.32809328,  1.        ,  1.        ,  1.        ,  1.        ],\n",
       "       [-0.3484097 ,  1.        , -1.5702257 ,  1.        , -1.94546175,\n",
       "         1.        ,  1.        ,  1.        , -1.42042402, -0.18696216],\n",
       "       [-0.87387662, -1.11261149, -0.48101959, -0.43128963, -0.72088993,\n",
       "        -0.98866675, -2.37122552,  1.        ,  1.        , -1.57554591],\n",
       "       [ 0.46173415, -1.0238809 , -0.41073958, -0.16600653, -0.59952296,\n",
       "         0.00957796,  0.47092539, -0.79168667,  1.        ,  0.17519044]])"
      ]
     },
     "execution_count": 8,
     "metadata": {},
     "output_type": "execute_result"
    }
   ],
   "source": [
    "stock_change"
   ]
  },
  {
   "cell_type": "code",
   "execution_count": 9,
   "id": "9ba86014-89c3-4b7f-b0ba-279146ce5a6f",
   "metadata": {},
   "outputs": [
    {
     "data": {
      "text/plain": [
       "array([[ True, False, False,  True,  True,  True,  True,  True,  True,\n",
       "         True],\n",
       "       [False, False,  True,  True,  True,  True,  True, False, False,\n",
       "        False]])"
      ]
     },
     "execution_count": 9,
     "metadata": {},
     "output_type": "execute_result"
    }
   ],
   "source": [
    "stock_change[0:2][0:5] > 0"
   ]
  },
  {
   "cell_type": "code",
   "execution_count": 10,
   "id": "885dc40d-5f9c-4f06-8866-d982af76fa4b",
   "metadata": {},
   "outputs": [
    {
     "data": {
      "text/plain": [
       "False"
      ]
     },
     "execution_count": 10,
     "metadata": {},
     "output_type": "execute_result"
    }
   ],
   "source": [
    "# 通用判断函数\n",
    "np.all(stock_change[0:2][0:5] > 0)  # 全为True才返回True"
   ]
  },
  {
   "cell_type": "code",
   "execution_count": 11,
   "id": "eed37763-9a58-4386-937b-3e186e3aa18a",
   "metadata": {},
   "outputs": [
    {
     "data": {
      "text/plain": [
       "True"
      ]
     },
     "execution_count": 11,
     "metadata": {},
     "output_type": "execute_result"
    }
   ],
   "source": [
    "np.any(stock_change[0:2][0:5] > 0)  # 有1个为True就返回True"
   ]
  },
  {
   "cell_type": "code",
   "execution_count": 14,
   "id": "f1e7b0d6-f982-43c4-be88-0249ca527365",
   "metadata": {},
   "outputs": [],
   "source": [
    "# 三元运算符\n",
    "# np.where(布尔值，True的位置的值，False的位置的值)\n",
    "temp = stock_change[:4, :4]"
   ]
  },
  {
   "cell_type": "code",
   "execution_count": 15,
   "id": "b13d5248-fa1f-4fa0-a501-7ddf5992a788",
   "metadata": {},
   "outputs": [
    {
     "data": {
      "text/plain": [
       "array([[ 1.        , -1.41741155, -0.03213892,  1.        ],\n",
       "       [-1.68239285, -0.73154805,  0.06769326,  0.20615696],\n",
       "       [ 0.19333838, -0.39109997, -0.67482769, -0.58956485],\n",
       "       [-0.01936531, -0.54125946, -0.33467765,  1.        ]])"
      ]
     },
     "execution_count": 15,
     "metadata": {},
     "output_type": "execute_result"
    }
   ],
   "source": [
    "temp"
   ]
  },
  {
   "cell_type": "code",
   "execution_count": 17,
   "id": "41a806dd-499c-4fc2-8777-2e525fd31595",
   "metadata": {},
   "outputs": [
    {
     "data": {
      "text/plain": [
       "array([[ True, False, False,  True],\n",
       "       [False, False,  True,  True],\n",
       "       [ True, False, False, False],\n",
       "       [False, False, False,  True]])"
      ]
     },
     "execution_count": 17,
     "metadata": {},
     "output_type": "execute_result"
    }
   ],
   "source": [
    "temp > 0"
   ]
  },
  {
   "cell_type": "code",
   "execution_count": 18,
   "id": "4ba69d2f-1df1-4d97-8b7f-a435fdace4f6",
   "metadata": {},
   "outputs": [
    {
     "data": {
      "text/plain": [
       "array([[1, 0, 0, 1],\n",
       "       [0, 0, 1, 1],\n",
       "       [1, 0, 0, 0],\n",
       "       [0, 0, 0, 1]])"
      ]
     },
     "execution_count": 18,
     "metadata": {},
     "output_type": "execute_result"
    }
   ],
   "source": [
    "np.where(temp > 0, 1, 0)"
   ]
  },
  {
   "cell_type": "code",
   "execution_count": 20,
   "id": "752f7f3b-4b1b-425f-b7f2-6a4d8f0eb7df",
   "metadata": {},
   "outputs": [
    {
     "data": {
      "text/plain": [
       "array([[False, False, False, False],\n",
       "       [False, False, False, False],\n",
       "       [False, False, False, False],\n",
       "       [False, False, False, False]])"
      ]
     },
     "execution_count": 20,
     "metadata": {},
     "output_type": "execute_result"
    }
   ],
   "source": [
    "# 复合逻辑\n",
    "np.logical_and(temp > 0.5, temp < 1)"
   ]
  },
  {
   "cell_type": "code",
   "execution_count": 21,
   "id": "c2023dcb-877c-43f4-9fab-1f26a2aeccbc",
   "metadata": {},
   "outputs": [
    {
     "data": {
      "text/plain": [
       "array([[0, 0, 0, 0],\n",
       "       [0, 0, 0, 0],\n",
       "       [0, 0, 0, 0],\n",
       "       [0, 0, 0, 0]])"
      ]
     },
     "execution_count": 21,
     "metadata": {},
     "output_type": "execute_result"
    }
   ],
   "source": [
    "np.where(np.logical_and(temp > 0.5, temp < 1), 1, 0)"
   ]
  },
  {
   "cell_type": "code",
   "execution_count": 22,
   "id": "c788e9d8-d03f-4acc-96f8-c2fafe6fb098",
   "metadata": {},
   "outputs": [
    {
     "data": {
      "text/plain": [
       "array([[ True,  True, False,  True],\n",
       "       [ True,  True, False, False],\n",
       "       [False, False,  True,  True],\n",
       "       [False,  True, False,  True]])"
      ]
     },
     "execution_count": 22,
     "metadata": {},
     "output_type": "execute_result"
    }
   ],
   "source": [
    "np.logical_or(temp > 0.5, temp < -0.5)"
   ]
  },
  {
   "cell_type": "code",
   "execution_count": 24,
   "id": "f239288e-f92e-46e6-adce-d542bdab10ce",
   "metadata": {},
   "outputs": [
    {
     "data": {
      "text/plain": [
       "array([[1, 1, 0, 1],\n",
       "       [1, 1, 0, 0],\n",
       "       [0, 0, 1, 1],\n",
       "       [0, 1, 0, 1]])"
      ]
     },
     "execution_count": 24,
     "metadata": {},
     "output_type": "execute_result"
    }
   ],
   "source": [
    "np.where(np.logical_or(temp > 0.5, temp < -0.5), 1, 0)"
   ]
  },
  {
   "cell_type": "markdown",
   "id": "b33d2d7e-0cbb-44a3-bcfe-054b8735cc5f",
   "metadata": {
    "jp-MarkdownHeadingCollapsed": true
   },
   "source": [
    "### 2、统计运算"
   ]
  },
  {
   "cell_type": "code",
   "execution_count": 25,
   "id": "3e632cec-3895-4d09-9b1a-0a16b5d8aa4f",
   "metadata": {},
   "outputs": [
    {
     "data": {
      "text/plain": [
       "array([[ 1.        , -1.41741155, -0.03213892,  1.        ],\n",
       "       [-1.68239285, -0.73154805,  0.06769326,  0.20615696],\n",
       "       [ 0.19333838, -0.39109997, -0.67482769, -0.58956485],\n",
       "       [-0.01936531, -0.54125946, -0.33467765,  1.        ]])"
      ]
     },
     "execution_count": 25,
     "metadata": {},
     "output_type": "execute_result"
    }
   ],
   "source": [
    "temp"
   ]
  },
  {
   "cell_type": "code",
   "execution_count": 29,
   "id": "f5ed6cab-59d7-44bc-a36c-8bc88c1dc180",
   "metadata": {},
   "outputs": [
    {
     "data": {
      "text/plain": [
       "array([ 1.        , -0.39109997,  0.06769326,  1.        ])"
      ]
     },
     "execution_count": 29,
     "metadata": {},
     "output_type": "execute_result"
    }
   ],
   "source": [
    "temp.max(axis=0)  # 每一列的最大值"
   ]
  },
  {
   "cell_type": "code",
   "execution_count": 34,
   "id": "ad0a4160-45f3-4703-b4db-ba2870877f30",
   "metadata": {},
   "outputs": [
    {
     "data": {
      "text/plain": [
       "array([-1.41741155, -1.68239285, -0.67482769, -0.54125946])"
      ]
     },
     "execution_count": 34,
     "metadata": {},
     "output_type": "execute_result"
    }
   ],
   "source": [
    "np.min(temp, axis=1)  # 每一行的最小值"
   ]
  },
  {
   "cell_type": "code",
   "execution_count": 35,
   "id": "04d34e67-9e97-43e2-82db-e9d0e53874e4",
   "metadata": {},
   "outputs": [
    {
     "data": {
      "text/plain": [
       "array([0, 2, 1, 0], dtype=int64)"
      ]
     },
     "execution_count": 35,
     "metadata": {},
     "output_type": "execute_result"
    }
   ],
   "source": [
    "np.argmax(temp, axis=0)"
   ]
  },
  {
   "cell_type": "code",
   "execution_count": 36,
   "id": "512f29e9-2d88-4ac1-8ac5-d1e917500ab2",
   "metadata": {},
   "outputs": [
    {
     "data": {
      "text/plain": [
       "array([1, 0, 2, 1], dtype=int64)"
      ]
     },
     "execution_count": 36,
     "metadata": {},
     "output_type": "execute_result"
    }
   ],
   "source": [
    "np.argmin(temp, axis=1)"
   ]
  },
  {
   "cell_type": "markdown",
   "id": "7a24d2a9-7e8e-4d57-bddb-a9e7823ebcd5",
   "metadata": {
    "jp-MarkdownHeadingCollapsed": true
   },
   "source": [
    "### 3、数组间运算"
   ]
  },
  {
   "cell_type": "code",
   "execution_count": 37,
   "id": "1d750a3e-b48f-4319-8d02-7750e41a4319",
   "metadata": {},
   "outputs": [],
   "source": [
    "arr = np.array([[1, 2, 3, 2, 1, 4], [5, 6, 1, 2, 3, 1]])"
   ]
  },
  {
   "cell_type": "code",
   "execution_count": 38,
   "id": "35247f73-c2e7-4c73-bfc7-9e61ed81a3f4",
   "metadata": {},
   "outputs": [
    {
     "data": {
      "text/plain": [
       "array([[1, 2, 3, 2, 1, 4],\n",
       "       [5, 6, 1, 2, 3, 1]])"
      ]
     },
     "execution_count": 38,
     "metadata": {},
     "output_type": "execute_result"
    }
   ],
   "source": [
    "arr"
   ]
  },
  {
   "cell_type": "code",
   "execution_count": 39,
   "id": "c64a8562-b3aa-437f-9f1c-dfcc0aa3096d",
   "metadata": {},
   "outputs": [
    {
     "data": {
      "text/plain": [
       "array([[2, 3, 4, 3, 2, 5],\n",
       "       [6, 7, 2, 3, 4, 2]])"
      ]
     },
     "execution_count": 39,
     "metadata": {},
     "output_type": "execute_result"
    }
   ],
   "source": [
    "# 数组与数字的运算\n",
    "arr + 1"
   ]
  },
  {
   "cell_type": "code",
   "execution_count": 40,
   "id": "00060da7-e72f-4acf-b7e6-3b5474dbb0fd",
   "metadata": {},
   "outputs": [
    {
     "data": {
      "text/plain": [
       "array([[0.5, 1. , 1.5, 1. , 0.5, 2. ],\n",
       "       [2.5, 3. , 0.5, 1. , 1.5, 0.5]])"
      ]
     },
     "execution_count": 40,
     "metadata": {},
     "output_type": "execute_result"
    }
   ],
   "source": [
    "arr / 2"
   ]
  },
  {
   "cell_type": "code",
   "execution_count": 41,
   "id": "a0a12293-89af-4d6b-a8bf-08f27aff592a",
   "metadata": {},
   "outputs": [],
   "source": [
    "# 数组间的运算\n",
    "# broadcast机制：同维度下的元素数目相等 or 存在1\n",
    "arr1 = np.array([[1, 2, 3, 2, 1, 4], [5, 6, 1, 2, 3, 1]])\n",
    "arr2 = np.array([[1], [3]])"
   ]
  },
  {
   "cell_type": "markdown",
   "id": "34a17b01-c48b-4613-81e6-7b2f4a423cc3",
   "metadata": {},
   "source": [
    "arr1.shape"
   ]
  },
  {
   "cell_type": "code",
   "execution_count": 43,
   "id": "cf8043d9-f4c3-40bc-b7e1-20e902e23eeb",
   "metadata": {},
   "outputs": [
    {
     "data": {
      "text/plain": [
       "(2, 1)"
      ]
     },
     "execution_count": 43,
     "metadata": {},
     "output_type": "execute_result"
    }
   ],
   "source": [
    "arr2.shape"
   ]
  },
  {
   "cell_type": "code",
   "execution_count": 44,
   "id": "69fd33e0-7f67-42b0-917a-f772b36c009a",
   "metadata": {},
   "outputs": [
    {
     "data": {
      "text/plain": [
       "array([[2, 3, 4, 3, 2, 5],\n",
       "       [8, 9, 4, 5, 6, 4]])"
      ]
     },
     "execution_count": 44,
     "metadata": {},
     "output_type": "execute_result"
    }
   ],
   "source": [
    "arr1 + arr2"
   ]
  },
  {
   "cell_type": "code",
   "execution_count": 45,
   "id": "4419dd12-f2fe-4a64-8c33-2586223203f4",
   "metadata": {},
   "outputs": [
    {
     "data": {
      "text/plain": [
       "array([[ 1,  2,  3,  2,  1,  4],\n",
       "       [15, 18,  3,  6,  9,  3]])"
      ]
     },
     "execution_count": 45,
     "metadata": {},
     "output_type": "execute_result"
    }
   ],
   "source": [
    "arr1 * arr2"
   ]
  },
  {
   "cell_type": "code",
   "execution_count": 46,
   "id": "c5f9358c-cf05-49b7-abdb-cf00f9ac380a",
   "metadata": {},
   "outputs": [
    {
     "data": {
      "text/plain": [
       "array([[1.        , 2.        , 3.        , 2.        , 1.        ,\n",
       "        4.        ],\n",
       "       [1.66666667, 2.        , 0.33333333, 0.66666667, 1.        ,\n",
       "        0.33333333]])"
      ]
     },
     "execution_count": 46,
     "metadata": {},
     "output_type": "execute_result"
    }
   ],
   "source": [
    "arr1 / arr2"
   ]
  },
  {
   "cell_type": "markdown",
   "id": "de078496-e2f1-4ce3-b4f6-0edc752d62f4",
   "metadata": {
    "jp-MarkdownHeadingCollapsed": true
   },
   "source": [
    "### 4、矩阵运算"
   ]
  },
  {
   "cell_type": "code",
   "execution_count": 3,
   "id": "6dff8845-d70b-4c46-9dfd-781cd6779e17",
   "metadata": {},
   "outputs": [],
   "source": [
    "# ndarray存储矩阵\n",
    "data = np.array([[80, 86],\n",
    "[82, 80],\n",
    "[85, 78],\n",
    "[90, 90],\n",
    "[86, 82],\n",
    "[82, 90],\n",
    "[78, 80],\n",
    "[92, 94]])"
   ]
  },
  {
   "cell_type": "code",
   "execution_count": 4,
   "id": "474257d5-d4cd-4b8e-afd1-2b7b64b7e3ff",
   "metadata": {},
   "outputs": [
    {
     "data": {
      "text/plain": [
       "array([[80, 86],\n",
       "       [82, 80],\n",
       "       [85, 78],\n",
       "       [90, 90],\n",
       "       [86, 82],\n",
       "       [82, 90],\n",
       "       [78, 80],\n",
       "       [92, 94]])"
      ]
     },
     "execution_count": 4,
     "metadata": {},
     "output_type": "execute_result"
    }
   ],
   "source": [
    "data"
   ]
  },
  {
   "cell_type": "code",
   "execution_count": 5,
   "id": "2a6ae658-bad3-4554-8c57-7d861eb3e359",
   "metadata": {},
   "outputs": [],
   "source": [
    "# matrix存储矩阵\n",
    "data_mat = np.mat([[80, 86],\n",
    "[82, 80],\n",
    "[85, 78],\n",
    "[90, 90],\n",
    "[86, 82],\n",
    "[82, 90],\n",
    "[78, 80],\n",
    "[92, 94]])"
   ]
  },
  {
   "cell_type": "code",
   "execution_count": 6,
   "id": "6eeb187c-0af4-4d81-9515-cd23a87ffcb7",
   "metadata": {},
   "outputs": [
    {
     "data": {
      "text/plain": [
       "matrix([[80, 86],\n",
       "        [82, 80],\n",
       "        [85, 78],\n",
       "        [90, 90],\n",
       "        [86, 82],\n",
       "        [82, 90],\n",
       "        [78, 80],\n",
       "        [92, 94]])"
      ]
     },
     "execution_count": 6,
     "metadata": {},
     "output_type": "execute_result"
    }
   ],
   "source": [
    "data_mat  # (8, 2)"
   ]
  },
  {
   "cell_type": "code",
   "execution_count": 8,
   "id": "90defe56-e169-4a78-88da-425c0c358220",
   "metadata": {},
   "outputs": [],
   "source": [
    "weights = np.array([[0.3], [0.7]])  # (2, 1)"
   ]
  },
  {
   "cell_type": "code",
   "execution_count": 9,
   "id": "b68ad48b-53ea-4ef1-9cbf-456ec7138928",
   "metadata": {},
   "outputs": [
    {
     "data": {
      "text/plain": [
       "array([[0.3],\n",
       "       [0.7]])"
      ]
     },
     "execution_count": 9,
     "metadata": {},
     "output_type": "execute_result"
    }
   ],
   "source": [
    "weights"
   ]
  },
  {
   "cell_type": "code",
   "execution_count": 13,
   "id": "3a233edf-8748-47ed-8d0d-4253157ad947",
   "metadata": {},
   "outputs": [],
   "source": [
    "weights_mat = np.mat([[0.3], [0.7]])"
   ]
  },
  {
   "cell_type": "code",
   "execution_count": 10,
   "id": "f2ca6b51-a522-4e9b-b58f-c71ffde518b4",
   "metadata": {},
   "outputs": [
    {
     "data": {
      "text/plain": [
       "array([[84.2],\n",
       "       [80.6],\n",
       "       [80.1],\n",
       "       [90. ],\n",
       "       [83.2],\n",
       "       [87.6],\n",
       "       [79.4],\n",
       "       [93.4]])"
      ]
     },
     "execution_count": 10,
     "metadata": {},
     "output_type": "execute_result"
    }
   ],
   "source": [
    "# 矩阵（二维数组）运算\n",
    "np.matmul(data, weights)  # (8, 2) * (2, 1) = (8, 1)"
   ]
  },
  {
   "cell_type": "code",
   "execution_count": 11,
   "id": "b5db03b7-87c2-4fcb-b3d6-e9881e4fc87b",
   "metadata": {},
   "outputs": [
    {
     "data": {
      "text/plain": [
       "array([[84.2],\n",
       "       [80.6],\n",
       "       [80.1],\n",
       "       [90. ],\n",
       "       [83.2],\n",
       "       [87.6],\n",
       "       [79.4],\n",
       "       [93.4]])"
      ]
     },
     "execution_count": 11,
     "metadata": {},
     "output_type": "execute_result"
    }
   ],
   "source": [
    "np.dot(data, weights)"
   ]
  },
  {
   "cell_type": "code",
   "execution_count": 15,
   "id": "bfb0996d-9b58-4d15-b73d-c930260724f5",
   "metadata": {},
   "outputs": [
    {
     "data": {
      "text/plain": [
       "array([[84.2],\n",
       "       [80.6],\n",
       "       [80.1],\n",
       "       [90. ],\n",
       "       [83.2],\n",
       "       [87.6],\n",
       "       [79.4],\n",
       "       [93.4]])"
      ]
     },
     "execution_count": 15,
     "metadata": {},
     "output_type": "execute_result"
    }
   ],
   "source": [
    "data @ weights"
   ]
  },
  {
   "cell_type": "code",
   "execution_count": 14,
   "id": "aac6eea7-c93c-4507-a9a3-c0eb3ab7aead",
   "metadata": {},
   "outputs": [
    {
     "data": {
      "text/plain": [
       "matrix([[84.2],\n",
       "        [80.6],\n",
       "        [80.1],\n",
       "        [90. ],\n",
       "        [83.2],\n",
       "        [87.6],\n",
       "        [79.4],\n",
       "        [93.4]])"
      ]
     },
     "execution_count": 14,
     "metadata": {},
     "output_type": "execute_result"
    }
   ],
   "source": [
    "# 矩阵运算\n",
    "data_mat * weights_mat"
   ]
  },
  {
   "cell_type": "markdown",
   "id": "4ec0e794-43a4-4cf3-9d3a-c41e2684d17f",
   "metadata": {
    "jp-MarkdownHeadingCollapsed": true
   },
   "source": [
    "### 5、合并、分割"
   ]
  },
  {
   "cell_type": "code",
   "execution_count": 16,
   "id": "5d156516-81d7-401a-835a-94d8a3a4a3de",
   "metadata": {},
   "outputs": [],
   "source": [
    "a = stock_change[:2, 0:4]\n",
    "b = stock_change[4:6, 0:4]"
   ]
  },
  {
   "cell_type": "code",
   "execution_count": 17,
   "id": "ce99a763-ea41-4208-a2ce-d1ad42fc8f68",
   "metadata": {},
   "outputs": [
    {
     "data": {
      "text/plain": [
       "array([[-0.50416139,  0.25727289,  0.25294282, -0.85622214],\n",
       "       [ 0.8311718 ,  0.27925339, -0.14132699, -0.80335951]])"
      ]
     },
     "execution_count": 17,
     "metadata": {},
     "output_type": "execute_result"
    }
   ],
   "source": [
    "a"
   ]
  },
  {
   "cell_type": "code",
   "execution_count": 18,
   "id": "14b976ff-65f2-47ef-b6a7-3f3604c872f0",
   "metadata": {},
   "outputs": [
    {
     "data": {
      "text/plain": [
       "array([[-1.10253645,  0.11667327,  0.49389823,  0.26543307],\n",
       "       [-0.67725844,  0.29449182,  0.3321434 ,  0.58058302]])"
      ]
     },
     "execution_count": 18,
     "metadata": {},
     "output_type": "execute_result"
    }
   ],
   "source": [
    "b"
   ]
  },
  {
   "cell_type": "code",
   "execution_count": 20,
   "id": "346c232f-ca32-482a-bf2a-b66d915cf125",
   "metadata": {},
   "outputs": [
    {
     "data": {
      "text/plain": [
       "array([[-0.50416139,  0.25727289,  0.25294282, -0.85622214, -1.10253645,\n",
       "         0.11667327,  0.49389823,  0.26543307],\n",
       "       [ 0.8311718 ,  0.27925339, -0.14132699, -0.80335951, -0.67725844,\n",
       "         0.29449182,  0.3321434 ,  0.58058302]])"
      ]
     },
     "execution_count": 20,
     "metadata": {},
     "output_type": "execute_result"
    }
   ],
   "source": [
    "# 水平拼接\n",
    "np.hstack((a, b))"
   ]
  },
  {
   "cell_type": "code",
   "execution_count": 21,
   "id": "af566552-3b55-48cb-8985-a15bcdaaacf7",
   "metadata": {},
   "outputs": [
    {
     "data": {
      "text/plain": [
       "array([[-0.50416139,  0.25727289,  0.25294282, -0.85622214, -1.10253645,\n",
       "         0.11667327,  0.49389823,  0.26543307],\n",
       "       [ 0.8311718 ,  0.27925339, -0.14132699, -0.80335951, -0.67725844,\n",
       "         0.29449182,  0.3321434 ,  0.58058302]])"
      ]
     },
     "execution_count": 21,
     "metadata": {},
     "output_type": "execute_result"
    }
   ],
   "source": [
    "np.concatenate((a, b), axis=1)"
   ]
  },
  {
   "cell_type": "code",
   "execution_count": 22,
   "id": "151e551d-940f-48a3-b4d2-394cf89dba0b",
   "metadata": {},
   "outputs": [
    {
     "data": {
      "text/plain": [
       "array([[-0.50416139,  0.25727289,  0.25294282, -0.85622214],\n",
       "       [ 0.8311718 ,  0.27925339, -0.14132699, -0.80335951],\n",
       "       [-1.10253645,  0.11667327,  0.49389823,  0.26543307],\n",
       "       [-0.67725844,  0.29449182,  0.3321434 ,  0.58058302]])"
      ]
     },
     "execution_count": 22,
     "metadata": {},
     "output_type": "execute_result"
    }
   ],
   "source": [
    "# 竖直拼接\n",
    "np.vstack((a, b))"
   ]
  },
  {
   "cell_type": "code",
   "execution_count": 23,
   "id": "e3dda466-a362-4150-a4f9-79c56ed8ef0e",
   "metadata": {},
   "outputs": [
    {
     "data": {
      "text/plain": [
       "array([[-0.50416139,  0.25727289,  0.25294282, -0.85622214],\n",
       "       [ 0.8311718 ,  0.27925339, -0.14132699, -0.80335951],\n",
       "       [-1.10253645,  0.11667327,  0.49389823,  0.26543307],\n",
       "       [-0.67725844,  0.29449182,  0.3321434 ,  0.58058302]])"
      ]
     },
     "execution_count": 23,
     "metadata": {},
     "output_type": "execute_result"
    }
   ],
   "source": [
    "np.concatenate((a, b), axis=0)"
   ]
  },
  {
   "cell_type": "code",
   "execution_count": 24,
   "id": "bc9980e9-0e54-4be1-b1de-f3e422b6c4f2",
   "metadata": {},
   "outputs": [],
   "source": [
    "# 分割\n",
    "x = np.arange(9.0)"
   ]
  },
  {
   "cell_type": "code",
   "execution_count": 25,
   "id": "7ff26c2d-aacc-42aa-937b-8831cfd306ac",
   "metadata": {},
   "outputs": [
    {
     "data": {
      "text/plain": [
       "array([0., 1., 2., 3., 4., 5., 6., 7., 8.])"
      ]
     },
     "execution_count": 25,
     "metadata": {},
     "output_type": "execute_result"
    }
   ],
   "source": [
    "x"
   ]
  },
  {
   "cell_type": "code",
   "execution_count": 27,
   "id": "bf1dd44e-ab4a-4357-8de9-f20bb6ca7cd4",
   "metadata": {},
   "outputs": [
    {
     "data": {
      "text/plain": [
       "[array([0., 1., 2.]), array([3., 4., 5.]), array([6., 7., 8.])]"
      ]
     },
     "execution_count": 27,
     "metadata": {},
     "output_type": "execute_result"
    }
   ],
   "source": [
    "np.split(x, 3)  # 将x分为3份"
   ]
  },
  {
   "cell_type": "code",
   "execution_count": 29,
   "id": "ca64724a-ef4a-4b22-91b0-b9b74b2359f6",
   "metadata": {},
   "outputs": [
    {
     "data": {
      "text/plain": [
       "[array([0., 1., 2.]),\n",
       " array([3., 4.]),\n",
       " array([5.]),\n",
       " array([6., 7., 8.]),\n",
       " array([], dtype=float64)]"
      ]
     },
     "execution_count": 29,
     "metadata": {},
     "output_type": "execute_result"
    }
   ],
   "source": [
    "np.split(x, [3, 5, 6, 9])"
   ]
  },
  {
   "cell_type": "markdown",
   "id": "93b952ab-18a1-4538-b017-f7319fe26628",
   "metadata": {},
   "source": [
    "### 6、IO操作与数据处理"
   ]
  },
  {
   "cell_type": "code",
   "execution_count": 33,
   "id": "15c6ed0a-cab7-4a1a-bd0c-66bc7a4474a3",
   "metadata": {},
   "outputs": [],
   "source": [
    "# 读取数据\n",
    "data = np.genfromtxt(\"test.csv\", delimiter=\",\")"
   ]
  },
  {
   "cell_type": "code",
   "execution_count": 34,
   "id": "e32caa89-1195-43a4-8210-286b31ae506b",
   "metadata": {},
   "outputs": [
    {
     "data": {
      "text/plain": [
       "array([[  nan,   nan,   nan,   nan],\n",
       "       [  1. , 123. ,   1.4,  23. ],\n",
       "       [  2. , 110. ,   nan,  18. ],\n",
       "       [  3. ,   nan,   2.1,  19. ]])"
      ]
     },
     "execution_count": 34,
     "metadata": {},
     "output_type": "execute_result"
    }
   ],
   "source": [
    "data  # 一般不用numpy读取数据"
   ]
  },
  {
   "cell_type": "code",
   "execution_count": 35,
   "id": "8437882c-0da1-4a8d-872f-d450c1453982",
   "metadata": {},
   "outputs": [],
   "source": [
    "# 处理缺失值\n",
    "def fill_nan_by_column_mean(t):\n",
    "    for i in range(t.shape[1]):\n",
    "        # 计算nan的个数\n",
    "        nan_num = np.count_nonzero(t[:, i][t[:, i] != t[:, i]])\n",
    "        if nan_num > 0:\n",
    "            now_col = t[:, i]\n",
    "            # 求和\n",
    "            now_col_not_nan = now_col[np.isnan(now_col) == False].sum()\n",
    "            # 和/个数\n",
    "            now_col_mean = now_col_not_nan / (t.shape[0] - nan_num)\n",
    "            # 赋值给now_col\n",
    "            now_col[np.isnan(now_col)] = now_col_mean\n",
    "            # 赋值给t，即更新t的当前列\n",
    "            t[:, i] = now_col\n",
    "    return t"
   ]
  },
  {
   "cell_type": "code",
   "execution_count": 38,
   "id": "b52faa57-9d06-4b8b-9437-d23b3083a168",
   "metadata": {},
   "outputs": [
    {
     "data": {
      "text/plain": [
       "array([[  2.  , 116.5 ,   1.75,  20.  ],\n",
       "       [  1.  , 123.  ,   1.4 ,  23.  ],\n",
       "       [  2.  , 110.  ,   1.75,  18.  ],\n",
       "       [  3.  , 116.5 ,   2.1 ,  19.  ]])"
      ]
     },
     "execution_count": 38,
     "metadata": {},
     "output_type": "execute_result"
    }
   ],
   "source": [
    "fill_nan_by_column_mean(data)"
   ]
  }
 ],
 "metadata": {
  "kernelspec": {
   "display_name": "Python 3 (ipykernel)",
   "language": "python",
   "name": "python3"
  },
  "language_info": {
   "codemirror_mode": {
    "name": "ipython",
    "version": 3
   },
   "file_extension": ".py",
   "mimetype": "text/x-python",
   "name": "python",
   "nbconvert_exporter": "python",
   "pygments_lexer": "ipython3",
   "version": "3.11.7"
  }
 },
 "nbformat": 4,
 "nbformat_minor": 5
}
